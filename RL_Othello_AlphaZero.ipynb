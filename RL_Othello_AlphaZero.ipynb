{
  "nbformat": 4,
  "nbformat_minor": 0,
  "metadata": {
    "colab": {
      "provenance": [],
      "gpuType": "T4",
      "toc_visible": true
    },
    "kernelspec": {
      "name": "python3",
      "display_name": "Python 3"
    },
    "language_info": {
      "name": "python"
    },
    "accelerator": "GPU"
  },
  "cells": [
    {
      "cell_type": "markdown",
      "source": [
        "# 深層学習を用いた「オセロAI」_AlphaZero"
      ],
      "metadata": {
        "id": "KfXijo7v4C-n"
      }
    },
    {
      "cell_type": "markdown",
      "source": [
        "## ゲーム環境の構築\n"
      ],
      "metadata": {
        "id": "MrvjEHsnPoAb"
      }
    },
    {
      "cell_type": "code",
      "source": [
        "# セル1: ゲーム環境\n",
        "import numpy as np\n",
        "import torch\n",
        "import torch.nn as nn\n",
        "import torch.optim as optim\n",
        "import torch.nn.functional as F\n",
        "from collections import deque\n",
        "import random\n",
        "import time\n",
        "from tqdm import tqdm # 進捗表示用\n",
        "\n",
        "class OthelloGame:\n",
        "    def __init__(self, n=8):\n",
        "        self.n = n\n",
        "        self.board = np.zeros((n, n), dtype=int)\n",
        "        mid = n // 2\n",
        "        self.board[mid-1, mid-1] = self.board[mid, mid] = 1\n",
        "        self.board[mid-1, mid] = self.board[mid, mid-1] = -1\n",
        "        self.current_player = -1\n",
        "\n",
        "    def get_valid_moves(self, player):\n",
        "        valid_moves = []\n",
        "        for r in range(self.n):\n",
        "            for c in range(self.n):\n",
        "                if self.board[r, c] == 0:\n",
        "                    for dr in [-1, 0, 1]:\n",
        "                        for dc in [-1, 0, 1]:\n",
        "                            if dr == 0 and dc == 0: continue\n",
        "                            r_check, c_check = r + dr, c + dc\n",
        "                            flipped_stones = []\n",
        "                            while 0 <= r_check < self.n and 0 <= c_check < self.n:\n",
        "                                if self.board[r_check, c_check] == -player:\n",
        "                                    flipped_stones.append((r_check, c_check))\n",
        "                                    r_check += dr\n",
        "                                    c_check += dc\n",
        "                                elif self.board[r_check, c_check] == player:\n",
        "                                    if flipped_stones: valid_moves.append((r, c))\n",
        "                                    break\n",
        "                                else: break\n",
        "        return list(set(valid_moves))\n",
        "\n",
        "    def make_move(self, move, player):\n",
        "        if move is None: return\n",
        "        r, c = move\n",
        "        self.board[r, c] = player\n",
        "        for dr in [-1, 0, 1]:\n",
        "            for dc in [-1, 0, 1]:\n",
        "                if dr == 0 and dc == 0: continue\n",
        "                r_check, c_check = r + dr, c + dc\n",
        "                flipped_stones = []\n",
        "                while 0 <= r_check < self.n and 0 <= c_check < self.n:\n",
        "                    if self.board[r_check, c_check] == -player:\n",
        "                        flipped_stones.append((r_check, c_check))\n",
        "                        r_check += dr\n",
        "                        c_check += dc\n",
        "                    elif self.board[r_check, c_check] == player:\n",
        "                        for fr, fc in flipped_stones: self.board[fr, fc] = player\n",
        "                        break\n",
        "                    else: break\n",
        "\n",
        "    def is_game_over(self):\n",
        "        return not self.get_valid_moves(-1) and not self.get_valid_moves(1)\n",
        "\n",
        "    def get_winner(self):\n",
        "        black_stones = np.sum(self.board == -1)\n",
        "        white_stones = np.sum(self.board == 1)\n",
        "        if black_stones > white_stones: return -1\n",
        "        elif white_stones > black_stones: return 1\n",
        "        else: return 0\n",
        "\n",
        "    def get_board_state(self):\n",
        "        return self.board.copy()\n",
        "\n",
        "    def get_symmetries(self, board, pi):\n",
        "        # 盤面と方策を回転・反転させて学習データを増やす\n",
        "        pi_board = np.reshape(pi, (self.n, self.n))\n",
        "        symmetries = []\n",
        "        for i in range(4):\n",
        "            for j in [True, False]:\n",
        "                new_b = np.rot90(board, i)\n",
        "                new_pi = np.rot90(pi_board, i)\n",
        "                if j:\n",
        "                    new_b = np.fliplr(new_b)\n",
        "                    new_pi = np.fliplr(new_pi)\n",
        "                symmetries.append((new_b, new_pi.flatten()))\n",
        "        return symmetries"
      ],
      "metadata": {
        "id": "KGXhvd05Pel5"
      },
      "execution_count": null,
      "outputs": []
    },
    {
      "cell_type": "markdown",
      "source": [
        "## ニューラルネットワークとMCTSの実装\n",
        "AlphaZero方式の心臓部。ResNet風の構造を持つネットワークと、MCTSのロジックを実装"
      ],
      "metadata": {
        "id": "0GyS943OQHX6"
      }
    },
    {
      "cell_type": "code",
      "source": [
        "# セル2: ニューラルネットワークとMCTS\n",
        "\n",
        "\n",
        "# --- 1. ニューラルネットワーク ---\n",
        "class ResBlock(nn.Module):\n",
        "    def __init__(self, num_filters):\n",
        "        super(ResBlock, self).__init__()\n",
        "        self.conv1 = nn.Conv2d(num_filters, num_filters, kernel_size=3, padding=1)\n",
        "        self.bn1 = nn.BatchNorm2d(num_filters)\n",
        "        self.conv2 = nn.Conv2d(num_filters, num_filters, kernel_size=3, padding=1)\n",
        "        self.bn2 = nn.BatchNorm2d(num_filters)\n",
        "\n",
        "    def forward(self, x):\n",
        "        residual = x\n",
        "        out = F.relu(self.bn1(self.conv1(x)))\n",
        "        out = self.bn2(self.conv2(out))\n",
        "        out += residual\n",
        "        out = F.relu(out)\n",
        "        return out\n",
        "\n",
        "class AlphaNet(nn.Module):\n",
        "    def __init__(self, n=8, num_res_blocks=5, num_filters=64):\n",
        "        super(AlphaNet, self).__init__()\n",
        "        self.n = n\n",
        "        self.start_block = nn.Sequential(\n",
        "            nn.Conv2d(1, num_filters, kernel_size=3, padding=1),\n",
        "            nn.BatchNorm2d(num_filters),\n",
        "            nn.ReLU()\n",
        "        )\n",
        "        self.res_blocks = nn.ModuleList([ResBlock(num_filters) for _ in range(num_res_blocks)])\n",
        "        self.policy_conv = nn.Conv2d(num_filters, 2, kernel_size=1)\n",
        "        self.policy_fc = nn.Linear(2 * n * n, n * n)\n",
        "        self.value_conv = nn.Conv2d(num_filters, 1, kernel_size=1)\n",
        "        self.value_fc1 = nn.Linear(n * n, 256)\n",
        "        self.value_fc2 = nn.Linear(256, 1)\n",
        "\n",
        "    def forward(self, x):\n",
        "        x = x.view(-1, 1, self.n, self.n)\n",
        "        x = self.start_block(x)\n",
        "        for res_block in self.res_blocks:\n",
        "            x = res_block(x)\n",
        "        pi = F.relu(self.policy_conv(x))\n",
        "        pi = pi.view(pi.size(0), -1)\n",
        "        pi = self.policy_fc(pi)\n",
        "        pi = F.log_softmax(pi, dim=1)\n",
        "        v = F.relu(self.value_conv(x))\n",
        "        v = v.view(v.size(0), -1)\n",
        "        v = F.relu(self.value_fc1(v))\n",
        "        v = torch.tanh(self.value_fc2(v))\n",
        "        return pi, v\n",
        "\n",
        "# --- 2. モンテカルロ木探索 (MCTS)  ---\n",
        "class MCTS:\n",
        "    def __init__(self, game, nnet, args):\n",
        "        self.game = game\n",
        "        self.nnet = nnet\n",
        "        self.args = args\n",
        "        self.Qsa = {}\n",
        "        self.Nsa = {}\n",
        "        self.Ns = {}\n",
        "        self.Ps = {}\n",
        "\n",
        "    def get_action_prob(self, canonical_board, temp=1):\n",
        "        # シミュレーションの開始\n",
        "        for _ in range(self.args['num_sims']):\n",
        "            # 毎回、元の盤面のコピーから探索を開始する\n",
        "            sim_game = OthelloGame(self.game.n)\n",
        "            sim_game.board = np.copy(canonical_board)\n",
        "            sim_game.current_player = 1 # Canonical Board is always from player 1's perspective\n",
        "            self.search(sim_game)\n",
        "\n",
        "        s = str(canonical_board.tobytes())\n",
        "        counts = [self.Nsa.get((s, a), 0) for a in range(self.game.n * self.game.n)]\n",
        "\n",
        "        if temp == 0:\n",
        "            best_a = np.argmax(counts)\n",
        "            probs = [0] * len(counts)\n",
        "            probs[best_a] = 1\n",
        "            return probs\n",
        "\n",
        "        counts = [c**(1./temp) for c in counts]\n",
        "        probs_sum = float(sum(counts))\n",
        "        if probs_sum == 0: # 全てのカウントが0の場合（ありえないはずだが安全策）\n",
        "            valid_moves = self.game.get_valid_moves(1)\n",
        "            num_valid_moves = len(valid_moves)\n",
        "            probs = [0] * len(counts)\n",
        "            if num_valid_moves > 0:\n",
        "                prob_per_move = 1 / num_valid_moves\n",
        "                for r, c in valid_moves:\n",
        "                    probs[r * self.game.n + c] = prob_per_move\n",
        "            return probs\n",
        "\n",
        "        probs = [x / probs_sum for x in counts]\n",
        "        return probs\n",
        "\n",
        "    def search(self, sim_game):\n",
        "        s = str(sim_game.board.tobytes())\n",
        "\n",
        "        # Base Case 1: 終端ノード (ゲーム終了)\n",
        "        if sim_game.is_game_over():\n",
        "            return -sim_game.get_winner()\n",
        "\n",
        "        # Base Case 2: リーフノード (未探索)\n",
        "        if s not in self.Ps:\n",
        "            board_tensor = torch.FloatTensor(sim_game.board).unsqueeze(0).to(self.args['device'])\n",
        "            log_pi, v = self.nnet(board_tensor)\n",
        "            self.Ps[s] = torch.exp(log_pi).data.cpu().numpy()[0]\n",
        "            self.Ns[s] = 0\n",
        "            return -v.item()\n",
        "\n",
        "        # --- Selection ---\n",
        "        valid_moves = sim_game.get_valid_moves(sim_game.current_player)\n",
        "        if not valid_moves: # パスの場合は相手ターンへ\n",
        "            sim_game.current_player *= -1\n",
        "            return -self.search(sim_game) # 相手視点での探索結果を返す\n",
        "\n",
        "        valid_actions = [r * self.game.n + c for r, c in valid_moves]\n",
        "        best_uct = -float('inf')\n",
        "        best_a = -1\n",
        "\n",
        "        for a in valid_actions:\n",
        "            if (s, a) in self.Qsa:\n",
        "                uct = self.Qsa[(s, a)] + self.args['cpuct'] * self.Ps[s][a] * np.sqrt(self.Ns[s]) / (1 + self.Nsa[(s, a)])\n",
        "            else:\n",
        "                uct = self.args['cpuct'] * self.Ps[s][a] * np.sqrt(self.Ns[s] + 1e-8)\n",
        "            if uct > best_uct:\n",
        "                best_uct = uct\n",
        "                best_a = a\n",
        "\n",
        "        a = best_a\n",
        "\n",
        "        # --- Expansion ---\n",
        "        # 次の盤面の状態を「コピー」して再帰呼び出し\n",
        "        next_sim_game = OthelloGame(self.game.n)\n",
        "        next_sim_game.board = np.copy(sim_game.board)\n",
        "        next_sim_game.current_player = sim_game.current_player\n",
        "\n",
        "        next_sim_game.make_move((a // self.game.n, a % self.game.n), next_sim_game.current_player)\n",
        "        next_sim_game.current_player *= -1\n",
        "\n",
        "        # --- Backpropagation ---\n",
        "        v = self.search(next_sim_game)\n",
        "\n",
        "        if (s, a) in self.Qsa:\n",
        "            self.Qsa[(s, a)] = (self.Nsa[(s, a)] * self.Qsa[(s, a)] + v) / (self.Nsa[(s, a)] + 1)\n",
        "            self.Nsa[(s, a)] += 1\n",
        "        else:\n",
        "            self.Qsa[(s, a)] = v\n",
        "            self.Nsa[(s, a)] = 1\n",
        "\n",
        "        self.Ns[s] += 1\n",
        "        return -v"
      ],
      "metadata": {
        "id": "WgYWdvdFVNTf"
      },
      "execution_count": null,
      "outputs": []
    },
    {
      "cell_type": "markdown",
      "source": [
        "## アリーナの実装\n",
        "2つの異なるネットワークモデルを対戦させるためのクラスを新しく作成\n",
        "\n",
        "\n"
      ],
      "metadata": {
        "id": "KDnNG-_4QUA-"
      }
    },
    {
      "cell_type": "code",
      "source": [
        "# セル3: アリーナ (モデル評価対戦)\n",
        "class Arena():\n",
        "    def __init__(self, player1, player2, game, args):\n",
        "        self.player1 = player1\n",
        "        self.player2 = player2\n",
        "        self.game = game\n",
        "        self.args = args\n",
        "\n",
        "    def playGame(self, verbose=False):\n",
        "        players = [self.player2, None, self.player1]\n",
        "        current_player_idx = -1\n",
        "        game = OthelloGame(self.game.n)\n",
        "        it = 0\n",
        "\n",
        "        while not game.is_game_over():\n",
        "            it += 1\n",
        "            player_in_turn = players[current_player_idx + 1]\n",
        "            canonical_board = game.get_board_state() * current_player_idx\n",
        "\n",
        "            # MCTSを使った手番決定\n",
        "            mcts = MCTS(OthelloGame(self.game.n), player_in_turn, self.args)\n",
        "            mcts.game.board = np.copy(game.board)\n",
        "            mcts.game.current_player = current_player_idx\n",
        "\n",
        "            action_probs = mcts.get_action_prob(canonical_board, temp=0) # 最善手を選択\n",
        "            action = np.argmax(action_probs)\n",
        "\n",
        "            game.make_move((action // self.game.n, action % self.game.n), current_player_idx)\n",
        "            current_player_idx *= -1\n",
        "\n",
        "        return game.get_winner()\n",
        "\n",
        "    def playGames(self, num_games, verbose=False):\n",
        "        num_games = int(num_games / 2)\n",
        "        one_wins = 0\n",
        "        two_wins = 0\n",
        "        draws = 0\n",
        "\n",
        "        for _ in tqdm(range(num_games), desc=\"Arena (P1 vs P2)\"):\n",
        "            game_result = self.playGame(verbose=verbose)\n",
        "            if game_result == -1: one_wins += 1\n",
        "            elif game_result == 1: two_wins += 1\n",
        "            else: draws += 1\n",
        "\n",
        "        self.player1, self.player2 = self.player2, self.player1 # 先手後手を入れ替え\n",
        "\n",
        "        for _ in tqdm(range(num_games), desc=\"Arena (P2 vs P1)\"):\n",
        "            game_result = self.playGame(verbose=verbose)\n",
        "            if game_result == 1: one_wins += 1\n",
        "            elif game_result == -1: two_wins += 1\n",
        "            else: draws += 1\n",
        "\n",
        "        return one_wins, two_wins, draws"
      ],
      "metadata": {
        "id": "20jDP-63Qyro"
      },
      "execution_count": null,
      "outputs": []
    },
    {
      "cell_type": "markdown",
      "source": [
        "## 学習の実装\n",
        "学習ループにアリーナでの評価を追加し、結果をhistoryに記録"
      ],
      "metadata": {
        "id": "4XWz37lCRBpX"
      }
    },
    {
      "cell_type": "code",
      "source": [
        "# セル4: 学習の実行\n",
        "\n",
        "class Coach:\n",
        "    def __init__(self, game, nnet, args):\n",
        "        self.game = game\n",
        "        self.nnet = nnet\n",
        "        self.pnet = self.nnet.__class__(game.n).to(args['device']) # 前のモデル(previous net)\n",
        "        self.args = args\n",
        "        self.train_examples_history = []\n",
        "        self.optimizer = optim.Adam(self.nnet.parameters(), lr=args['lr'])\n",
        "        self.history = {'arena_win_rate': [], 'loss_pi': [], 'loss_v': []}\n",
        "\n",
        "    def execute_episode(self):\n",
        "        # ... (このメソッドは変更なし、前回のコードをそのまま使用) ...\n",
        "        train_examples = []\n",
        "        game = OthelloGame(self.game.n)\n",
        "        current_player = -1\n",
        "        episode_step = 0\n",
        "        while True:\n",
        "            episode_step += 1\n",
        "            canonical_board = game.get_board_state() * current_player\n",
        "            temp = int(episode_step < self.args['temp_threshold'])\n",
        "            mcts = MCTS(OthelloGame(self.game.n), self.nnet, self.args)\n",
        "            mcts.game.board = np.copy(game.board)\n",
        "            mcts.game.current_player = current_player\n",
        "            pi = mcts.get_action_prob(canonical_board, temp=temp)\n",
        "            for b, p in self.game.get_symmetries(canonical_board, pi):\n",
        "                train_examples.append([b, current_player, p])\n",
        "            action = np.random.choice(len(pi), p=pi)\n",
        "            game.make_move((action // self.game.n, action % self.game.n), current_player)\n",
        "            if game.is_game_over():\n",
        "                winner = game.get_winner()\n",
        "                return [(x[0], x[2], winner * x[1]) for x in train_examples]\n",
        "            current_player *= -1\n",
        "\n",
        "    def learn(self):\n",
        "        for i in range(1, self.args['num_iters'] + 1):\n",
        "            print(f'------ ITERATION {i} ------')\n",
        "\n",
        "            # --- 1. 自己対戦 ---\n",
        "            iteration_train_examples = deque(maxlen=self.args['max_len_of_queue'])\n",
        "            for _ in tqdm(range(self.args['num_episodes']), desc=\"Self Play\"):\n",
        "                iteration_train_examples += self.execute_episode()\n",
        "\n",
        "            self.train_examples_history.append(iteration_train_examples)\n",
        "            if len(self.train_examples_history) > self.args['num_iters_for_train_examples_history']:\n",
        "                self.train_examples_history.pop(0)\n",
        "            train_examples = []\n",
        "            for e in self.train_examples_history:\n",
        "                train_examples.extend(e)\n",
        "            random.shuffle(train_examples)\n",
        "\n",
        "            # --- 2. ネットワーク学習 ---\n",
        "            self.pnet.load_state_dict(self.nnet.state_dict()) # 学習前のモデルを保存\n",
        "            avg_loss_pi, avg_loss_v = self.train(train_examples)\n",
        "            self.history['loss_pi'].append(avg_loss_pi)\n",
        "            self.history['loss_v'].append(avg_loss_v)\n",
        "\n",
        "            # --- 3. アリーナでの評価 ---\n",
        "            print('ARENA star PITTING NEW MODEL VS PREVIOUS MODEL')\n",
        "            arena = Arena(self.nnet, self.pnet, self.game, self.args)\n",
        "            pwins, nwins, draws = arena.playGames(self.args['arena_compare'])\n",
        "            win_rate = nwins / (pwins + nwins + draws) if (pwins + nwins + draws) > 0 else 0\n",
        "            self.history['arena_win_rate'].append(win_rate)\n",
        "\n",
        "            print(f'NEW/PREV WINS : {nwins} / {pwins} ; DRAWS : {draws}')\n",
        "            print(f'WIN RATE of NEW MODEL: {win_rate:.4f}')\n",
        "\n",
        "            if win_rate > self.args['update_threshold']:\n",
        "                print('ACCEPTING NEW MODEL')\n",
        "                torch.save(self.nnet.state_dict(), f'checkpoint_{i}.pth.tar')\n",
        "                torch.save(self.nnet.state_dict(), 'best.pth.tar')\n",
        "            else:\n",
        "                print('REJECTING NEW MODEL')\n",
        "                self.nnet.load_state_dict(self.pnet.state_dict())\n",
        "\n",
        "        return self.history\n",
        "\n",
        "\n",
        "    def train(self, examples):\n",
        "        # ... (損失を返すように少し修正) ...\n",
        "        self.nnet.train()\n",
        "        total_loss_pi, total_loss_v = 0, 0\n",
        "\n",
        "        for epoch in range(self.args['epochs']):\n",
        "            batch_count = int(len(examples) / self.args['batch_size'])\n",
        "            for _ in range(batch_count):\n",
        "                sample_ids = np.random.randint(len(examples), size=self.args['batch_size'])\n",
        "                boards, pis, vs = list(zip(*[examples[i] for i in sample_ids]))\n",
        "                boards = torch.FloatTensor(np.array(boards)).to(self.args['device'])\n",
        "                target_pis = torch.FloatTensor(np.array(pis)).to(self.args['device'])\n",
        "                target_vs = torch.FloatTensor(np.array(vs)).to(self.args['device'])\n",
        "\n",
        "                out_pi, out_v = self.nnet(boards)\n",
        "                l_pi = -torch.sum(target_pis * out_pi) / target_pis.size()[0]\n",
        "                l_v = F.mse_loss(out_v.view(-1), target_vs)\n",
        "                total_loss = l_pi + l_v\n",
        "\n",
        "                total_loss_pi += l_pi.item()\n",
        "                total_loss_v += l_v.item()\n",
        "\n",
        "                self.optimizer.zero_grad()\n",
        "                total_loss.backward()\n",
        "                self.optimizer.step()\n",
        "\n",
        "        return total_loss_pi / batch_count, total_loss_v / batch_count"
      ],
      "metadata": {
        "id": "e1enJFtGRTmU"
      },
      "execution_count": null,
      "outputs": []
    },
    {
      "cell_type": "markdown",
      "source": [
        "## 実行と可視化\n",
        "学習パラメータにアリーナ関連のものを追加し、最後にグラフを描画するコードを付け加える"
      ],
      "metadata": {
        "id": "QFASkjOjRVc6"
      }
    },
    {
      "cell_type": "code",
      "source": [
        "# セル5: パラメータ設定、実行、可視化\n",
        "\n",
        "import matplotlib.pyplot as plt\n",
        "\n",
        "args = {\n",
        "    'num_iters': 10,                 # 総学習イテレーション数\n",
        "    'num_episodes': 20,              # 1イテレーションあたりの自己対戦ゲーム数\n",
        "    'temp_threshold': 15,\n",
        "    'num_sims': 20,                  # MCTSのシミュレーション回数\n",
        "    'cpuct': 1.0,\n",
        "\n",
        "    # --- アリーナ関連 ---\n",
        "    'arena_compare': 20,             # 評価対戦のゲーム数 (偶数)\n",
        "    'update_threshold': 0.55,        # 新モデルがチャンピオンになるための勝率閾値\n",
        "\n",
        "    'lr': 0.001,\n",
        "    'epochs': 5,\n",
        "    'batch_size': 64,\n",
        "    'device': torch.device(\"cuda\" if torch.cuda.is_available() else \"cpu\"),\n",
        "    'max_len_of_queue': 200000,\n",
        "    'num_iters_for_train_examples_history': 20,\n",
        "}\n",
        "\n",
        "def main_and_visualize():\n",
        "    print(f\"Using device: {args['device']}\")\n",
        "    game = OthelloGame()\n",
        "    nnet = AlphaNet(n=game.n).to(args['device'])\n",
        "    coach = Coach(game, nnet, args)\n",
        "\n",
        "    # --- 学習開始 ---\n",
        "    history = coach.learn()\n",
        "\n",
        "    # --- 可視化 ---\n",
        "    fig, (ax1, ax2) = plt.subplots(2, 1, figsize=(12, 10))\n",
        "    fig.suptitle('AlphaZero Training Progress', fontsize=16)\n",
        "\n",
        "    # 1. アリーナでの勝率の推移\n",
        "    ax1.plot(range(1, len(history['arena_win_rate']) + 1), history['arena_win_rate'], marker='o', label='New Model Win Rate vs. Best Model')\n",
        "    ax1.axhline(y=args['update_threshold'], color='r', linestyle='--', label=f'Update Threshold ({args[\"update_threshold\"]})')\n",
        "    ax1.set_xlabel('Iterations')\n",
        "    ax1.set_ylabel('Win Rate')\n",
        "    ax1.set_title('Arena Performance')\n",
        "    ax1.legend()\n",
        "    ax1.grid(True)\n",
        "    ax1.set_ylim(0, 1)\n",
        "\n",
        "    # 2. 損失の推移\n",
        "    ax2.plot(range(1, len(history['loss_pi']) + 1), history['loss_pi'], marker='o', color='green', label='Policy Loss')\n",
        "    ax2.plot(range(1, len(history['loss_v']) + 1), history['loss_v'], marker='s', color='orange', label='Value Loss')\n",
        "    ax2.set_xlabel('Iterations')\n",
        "    ax2.set_ylabel('Loss')\n",
        "    ax2.set_title('Training Loss')\n",
        "    ax2.legend()\n",
        "    ax2.grid(True)\n",
        "\n",
        "    plt.tight_layout(rect=[0, 0.03, 1, 0.95])\n",
        "    plt.show()\n",
        "\n",
        "if __name__ == \"__main__\":\n",
        "    main_and_visualize()"
      ],
      "metadata": {
        "colab": {
          "base_uri": "https://localhost:8080/",
          "height": 1000
        },
        "id": "9C7oSfUgRrT1",
        "outputId": "c6aa30a3-d199-4a07-8139-100b82eaba2d"
      },
      "execution_count": null,
      "outputs": [
        {
          "output_type": "stream",
          "name": "stdout",
          "text": [
            "Using device: cuda\n",
            "------ ITERATION 1 ------\n"
          ]
        },
        {
          "output_type": "stream",
          "name": "stderr",
          "text": [
            "Self Play: 100%|██████████| 20/20 [01:21<00:00,  4.08s/it]\n"
          ]
        },
        {
          "output_type": "stream",
          "name": "stdout",
          "text": [
            "ARENA star PITTING NEW MODEL VS PREVIOUS MODEL\n"
          ]
        },
        {
          "output_type": "stream",
          "name": "stderr",
          "text": [
            "Arena (P1 vs P2): 100%|██████████| 10/10 [00:40<00:00,  4.07s/it]\n",
            "Arena (P2 vs P1): 100%|██████████| 10/10 [00:42<00:00,  4.27s/it]\n"
          ]
        },
        {
          "output_type": "stream",
          "name": "stdout",
          "text": [
            "NEW/PREV WINS : 0 / 20 ; DRAWS : 0\n",
            "WIN RATE of NEW MODEL: 0.0000\n",
            "REJECTING NEW MODEL\n",
            "------ ITERATION 2 ------\n"
          ]
        },
        {
          "output_type": "stream",
          "name": "stderr",
          "text": [
            "Self Play: 100%|██████████| 20/20 [01:21<00:00,  4.06s/it]\n"
          ]
        },
        {
          "output_type": "stream",
          "name": "stdout",
          "text": [
            "ARENA star PITTING NEW MODEL VS PREVIOUS MODEL\n"
          ]
        },
        {
          "output_type": "stream",
          "name": "stderr",
          "text": [
            "Arena (P1 vs P2): 100%|██████████| 10/10 [00:41<00:00,  4.16s/it]\n",
            "Arena (P2 vs P1): 100%|██████████| 10/10 [00:41<00:00,  4.17s/it]\n"
          ]
        },
        {
          "output_type": "stream",
          "name": "stdout",
          "text": [
            "NEW/PREV WINS : 0 / 20 ; DRAWS : 0\n",
            "WIN RATE of NEW MODEL: 0.0000\n",
            "REJECTING NEW MODEL\n",
            "------ ITERATION 3 ------\n"
          ]
        },
        {
          "output_type": "stream",
          "name": "stderr",
          "text": [
            "Self Play: 100%|██████████| 20/20 [01:22<00:00,  4.12s/it]\n"
          ]
        },
        {
          "output_type": "stream",
          "name": "stdout",
          "text": [
            "ARENA star PITTING NEW MODEL VS PREVIOUS MODEL\n"
          ]
        },
        {
          "output_type": "stream",
          "name": "stderr",
          "text": [
            "Arena (P1 vs P2): 100%|██████████| 10/10 [00:42<00:00,  4.22s/it]\n",
            "Arena (P2 vs P1): 100%|██████████| 10/10 [00:42<00:00,  4.21s/it]\n"
          ]
        },
        {
          "output_type": "stream",
          "name": "stdout",
          "text": [
            "NEW/PREV WINS : 0 / 20 ; DRAWS : 0\n",
            "WIN RATE of NEW MODEL: 0.0000\n",
            "REJECTING NEW MODEL\n",
            "------ ITERATION 4 ------\n"
          ]
        },
        {
          "output_type": "stream",
          "name": "stderr",
          "text": [
            "Self Play: 100%|██████████| 20/20 [01:21<00:00,  4.09s/it]\n"
          ]
        },
        {
          "output_type": "stream",
          "name": "stdout",
          "text": [
            "ARENA star PITTING NEW MODEL VS PREVIOUS MODEL\n"
          ]
        },
        {
          "output_type": "stream",
          "name": "stderr",
          "text": [
            "Arena (P1 vs P2): 100%|██████████| 10/10 [00:42<00:00,  4.21s/it]\n",
            "Arena (P2 vs P1): 100%|██████████| 10/10 [00:41<00:00,  4.13s/it]\n"
          ]
        },
        {
          "output_type": "stream",
          "name": "stdout",
          "text": [
            "NEW/PREV WINS : 10 / 10 ; DRAWS : 0\n",
            "WIN RATE of NEW MODEL: 0.5000\n",
            "REJECTING NEW MODEL\n",
            "------ ITERATION 5 ------\n"
          ]
        },
        {
          "output_type": "stream",
          "name": "stderr",
          "text": [
            "Self Play: 100%|██████████| 20/20 [01:22<00:00,  4.11s/it]\n"
          ]
        },
        {
          "output_type": "stream",
          "name": "stdout",
          "text": [
            "ARENA star PITTING NEW MODEL VS PREVIOUS MODEL\n"
          ]
        },
        {
          "output_type": "stream",
          "name": "stderr",
          "text": [
            "Arena (P1 vs P2): 100%|██████████| 10/10 [00:41<00:00,  4.14s/it]\n",
            "Arena (P2 vs P1): 100%|██████████| 10/10 [00:41<00:00,  4.10s/it]\n"
          ]
        },
        {
          "output_type": "stream",
          "name": "stdout",
          "text": [
            "NEW/PREV WINS : 20 / 0 ; DRAWS : 0\n",
            "WIN RATE of NEW MODEL: 1.0000\n",
            "ACCEPTING NEW MODEL\n",
            "------ ITERATION 6 ------\n"
          ]
        },
        {
          "output_type": "stream",
          "name": "stderr",
          "text": [
            "Self Play: 100%|██████████| 20/20 [01:23<00:00,  4.19s/it]\n"
          ]
        },
        {
          "output_type": "stream",
          "name": "stdout",
          "text": [
            "ARENA star PITTING NEW MODEL VS PREVIOUS MODEL\n"
          ]
        },
        {
          "output_type": "stream",
          "name": "stderr",
          "text": [
            "Arena (P1 vs P2): 100%|██████████| 10/10 [00:40<00:00,  4.09s/it]\n",
            "Arena (P2 vs P1): 100%|██████████| 10/10 [00:42<00:00,  4.21s/it]\n"
          ]
        },
        {
          "output_type": "stream",
          "name": "stdout",
          "text": [
            "NEW/PREV WINS : 20 / 0 ; DRAWS : 0\n",
            "WIN RATE of NEW MODEL: 1.0000\n",
            "ACCEPTING NEW MODEL\n",
            "------ ITERATION 7 ------\n"
          ]
        },
        {
          "output_type": "stream",
          "name": "stderr",
          "text": [
            "Self Play: 100%|██████████| 20/20 [01:23<00:00,  4.20s/it]\n"
          ]
        },
        {
          "output_type": "stream",
          "name": "stdout",
          "text": [
            "ARENA star PITTING NEW MODEL VS PREVIOUS MODEL\n"
          ]
        },
        {
          "output_type": "stream",
          "name": "stderr",
          "text": [
            "Arena (P1 vs P2): 100%|██████████| 10/10 [00:42<00:00,  4.29s/it]\n",
            "Arena (P2 vs P1): 100%|██████████| 10/10 [00:41<00:00,  4.12s/it]\n"
          ]
        },
        {
          "output_type": "stream",
          "name": "stdout",
          "text": [
            "NEW/PREV WINS : 20 / 0 ; DRAWS : 0\n",
            "WIN RATE of NEW MODEL: 1.0000\n",
            "ACCEPTING NEW MODEL\n",
            "------ ITERATION 8 ------\n"
          ]
        },
        {
          "output_type": "stream",
          "name": "stderr",
          "text": [
            "Self Play: 100%|██████████| 20/20 [01:24<00:00,  4.23s/it]\n"
          ]
        },
        {
          "output_type": "stream",
          "name": "stdout",
          "text": [
            "ARENA star PITTING NEW MODEL VS PREVIOUS MODEL\n"
          ]
        },
        {
          "output_type": "stream",
          "name": "stderr",
          "text": [
            "Arena (P1 vs P2): 100%|██████████| 10/10 [00:42<00:00,  4.21s/it]\n",
            "Arena (P2 vs P1): 100%|██████████| 10/10 [00:43<00:00,  4.32s/it]\n"
          ]
        },
        {
          "output_type": "stream",
          "name": "stdout",
          "text": [
            "NEW/PREV WINS : 10 / 0 ; DRAWS : 10\n",
            "WIN RATE of NEW MODEL: 0.5000\n",
            "REJECTING NEW MODEL\n",
            "------ ITERATION 9 ------\n"
          ]
        },
        {
          "output_type": "stream",
          "name": "stderr",
          "text": [
            "Self Play: 100%|██████████| 20/20 [01:25<00:00,  4.27s/it]\n"
          ]
        },
        {
          "output_type": "stream",
          "name": "stdout",
          "text": [
            "ARENA star PITTING NEW MODEL VS PREVIOUS MODEL\n"
          ]
        },
        {
          "output_type": "stream",
          "name": "stderr",
          "text": [
            "Arena (P1 vs P2): 100%|██████████| 10/10 [00:42<00:00,  4.27s/it]\n",
            "Arena (P2 vs P1): 100%|██████████| 10/10 [00:42<00:00,  4.22s/it]\n"
          ]
        },
        {
          "output_type": "stream",
          "name": "stdout",
          "text": [
            "NEW/PREV WINS : 0 / 20 ; DRAWS : 0\n",
            "WIN RATE of NEW MODEL: 0.0000\n",
            "REJECTING NEW MODEL\n",
            "------ ITERATION 10 ------\n"
          ]
        },
        {
          "output_type": "stream",
          "name": "stderr",
          "text": [
            "Self Play: 100%|██████████| 20/20 [01:23<00:00,  4.19s/it]\n"
          ]
        },
        {
          "output_type": "stream",
          "name": "stdout",
          "text": [
            "ARENA star PITTING NEW MODEL VS PREVIOUS MODEL\n"
          ]
        },
        {
          "output_type": "stream",
          "name": "stderr",
          "text": [
            "Arena (P1 vs P2): 100%|██████████| 10/10 [00:40<00:00,  4.08s/it]\n",
            "Arena (P2 vs P1): 100%|██████████| 10/10 [00:41<00:00,  4.17s/it]\n"
          ]
        },
        {
          "output_type": "stream",
          "name": "stdout",
          "text": [
            "NEW/PREV WINS : 10 / 10 ; DRAWS : 0\n",
            "WIN RATE of NEW MODEL: 0.5000\n",
            "REJECTING NEW MODEL\n"
          ]
        },
        {
          "output_type": "display_data",
          "data": {
            "text/plain": [
              "<Figure size 1200x1000 with 2 Axes>"
            ],
            "image/png": "[encoded data removed]"
          },
          "metadata": {}
        }
      ]
    },
    {
      "cell_type": "markdown",
      "source": [
        "##"
      ],
      "metadata": {
        "id": "dGb-4qCnQb2a"
      }
    }
  ]
}