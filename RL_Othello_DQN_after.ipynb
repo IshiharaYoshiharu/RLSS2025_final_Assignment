{
  "nbformat": 4,
  "nbformat_minor": 0,
  "metadata": {
    "colab": {
      "provenance": [],
      "gpuType": "T4",
      "toc_visible": true
    },
    "kernelspec": {
      "name": "python3",
      "display_name": "Python 3"
    },
    "language_info": {
      "name": "python"
    },
    "accelerator": "GPU"
  },
  "cells": [
    {
      "cell_type": "markdown",
      "source": [
        "# 深層学習を用いた「オセロAI」_DQN"
      ],
      "metadata": {
        "id": "KfXijo7v4C-n"
      }
    },
    {
      "cell_type": "markdown",
      "source": [
        "## ゲーム環境の実装\n",
        "オセロのゲームを信仰させるためのクラスを作成する。盤面の状態、合法手の判定、石を置く処理を設定する"
      ],
      "metadata": {
        "id": "eVwMOXkOSCCC"
      }
    },
    {
      "cell_type": "code",
      "source": [
        "\n",
        "# セル1: ゲーム環境とランダムプレイヤー\n",
        "\n",
        "import numpy as np\n",
        "import torch\n",
        "import torch.nn as nn\n",
        "import torch.nn.functional as F\n",
        "import torch.optim as optim\n",
        "import random\n",
        "from collections import deque, namedtuple\n",
        "import time\n",
        "from tqdm import tqdm\n",
        "import matplotlib.pyplot as plt\n",
        "\n",
        "# --- オセロのゲームクラス ---\n",
        "class OthelloGame:\n",
        "    def __init__(self, n=8):\n",
        "        self.n = n\n",
        "        self.board = np.zeros((n, n), dtype=int)\n",
        "        mid = n // 2\n",
        "        self.board[mid-1, mid-1] = self.board[mid, mid] = 1\n",
        "        self.board[mid-1, mid] = self.board[mid, mid-1] = -1\n",
        "        self.current_player = -1\n",
        "\n",
        "    def get_board_state(self):\n",
        "        \"\"\"現在の盤面状態のコピーを返す\"\"\"\n",
        "        return self.board.copy()\n",
        "\n",
        "    def get_valid_moves(self, player):\n",
        "        valid_moves = []\n",
        "        for r in range(self.n):\n",
        "            for c in range(self.n):\n",
        "                if self.board[r, c] == 0:\n",
        "                    for dr in [-1, 0, 1]:\n",
        "                        for dc in [-1, 0, 1]:\n",
        "                            if dr == 0 and dc == 0: continue\n",
        "                            r_check, c_check, flipped = r + dr, c + dc, []\n",
        "                            while 0 <= r_check < self.n and 0 <= c_check < self.n:\n",
        "                                if self.board[r_check, c_check] == -player:\n",
        "                                    flipped.append((r_check, c_check))\n",
        "                                    r_check += dr\n",
        "                                    c_check += dc\n",
        "                                elif self.board[r_check, c_check] == player:\n",
        "                                    if flipped: valid_moves.append((r, c))\n",
        "                                    break\n",
        "                                else: break\n",
        "        return list(set(valid_moves))\n",
        "\n",
        "    def make_move(self, move, player):\n",
        "        r, c = move\n",
        "        self.board[r, c] = player\n",
        "        for dr in [-1, 0, 1]:\n",
        "            for dc in [-1, 0, 1]:\n",
        "                if dr == 0 and dc == 0: continue\n",
        "                r_check, c_check, flipped = r + dr, c + dc, []\n",
        "                while 0 <= r_check < self.n and 0 <= c_check < self.n:\n",
        "                    if self.board[r_check, c_check] == -player:\n",
        "                        flipped.append((r_check, c_check))\n",
        "                        r_check += dr\n",
        "                        c_check += dc\n",
        "                    elif self.board[r_check, c_check] == player:\n",
        "                        for fr, fc in flipped: self.board[fr, fc] = player\n",
        "                        break\n",
        "                    else: break\n",
        "\n",
        "    def is_game_over(self):\n",
        "        return not self.get_valid_moves(-1) and not self.get_valid_moves(1)\n",
        "\n",
        "    def get_winner(self):\n",
        "        black_stones = np.sum(self.board == -1)\n",
        "        white_stones = np.sum(self.board == 1)\n",
        "        if black_stones > white_stones: return -1\n",
        "        elif white_stones > black_stones: return 1\n",
        "        else: return 0\n",
        "\n",
        "# --- 評価用のランダムプレイヤー ---\n",
        "class RandomPlayer:\n",
        "    def choose_action(self, valid_moves):\n",
        "        return random.choice(valid_moves) if valid_moves else None"
      ],
      "metadata": {
        "id": "sG5mJ-MGjUs3"
      },
      "execution_count": 41,
      "outputs": []
    },
    {
      "cell_type": "markdown",
      "source": [
        "## DQNエージェントの実装\n",
        "学習効率を高めるための、優先度付き経験再生バッファを実装。これはTD誤差（予測のズレ）が大きい「驚きのある経験」を優先的に学習するための仕組み。\n",
        "次に強化学習でオセロを学習エージェントを作成する。盤面を画像のようにとらえて判断するCNNをモデルとして使用。"
      ],
      "metadata": {
        "id": "4z_Gy6i_TQWP"
      }
    },
    {
      "cell_type": "code",
      "source": [
        "# セル2: 優先度付き経験再生 (PER) のためのSumTree\n",
        "class SumTree:\n",
        "    \"\"\"\n",
        "    PERで優先度付きサンプリングを効率的に行うためのデータ構造\n",
        "    \"\"\"\n",
        "    def __init__(self, capacity):\n",
        "        self.capacity = capacity\n",
        "        self.tree = np.zeros(2 * capacity - 1)\n",
        "        self.data = np.zeros(capacity, dtype=object)\n",
        "        self.n_entries = 0\n",
        "        self.write = 0\n",
        "\n",
        "    def _propagate(self, idx, change):\n",
        "        parent = (idx - 1) // 2\n",
        "        self.tree[parent] += change\n",
        "        if parent != 0: self._propagate(parent, change)\n",
        "\n",
        "    def _retrieve(self, idx, s):\n",
        "        left = 2 * idx + 1\n",
        "        right = left + 1\n",
        "        if left >= len(self.tree): return idx\n",
        "        if s <= self.tree[left]: return self._retrieve(left, s)\n",
        "        else: return self._retrieve(right, s - self.tree[left])\n",
        "\n",
        "    def total(self): return self.tree[0]\n",
        "\n",
        "    def add(self, p, data):\n",
        "        idx = self.write + self.capacity - 1\n",
        "        self.data[self.write] = data\n",
        "        self.update(idx, p)\n",
        "        self.write += 1\n",
        "        if self.write >= self.capacity: self.write = 0\n",
        "        if self.n_entries < self.capacity: self.n_entries += 1\n",
        "\n",
        "    def update(self, idx, p):\n",
        "        change = p - self.tree[idx]\n",
        "        self.tree[idx] = p\n",
        "        self._propagate(idx, change)\n",
        "\n",
        "    def get(self, s):\n",
        "        idx = self._retrieve(0, s)\n",
        "        dataIdx = idx - self.capacity + 1\n",
        "        return (idx, self.tree[idx], self.data[dataIdx])\n",
        "\n",
        "class PERBuffer:\n",
        "    \"\"\"優先度付き経験再生バッファ\"\"\"\n",
        "    def __init__(self, capacity, a=0.6, b=0.4, b_increment=0.001):\n",
        "        self.tree = SumTree(capacity)\n",
        "        self.a = a; self.b = b; self.b_increment = b_increment\n",
        "        self.e = 0.01; self.max_p = 1.0\n",
        "\n",
        "    def add(self, state, action, reward, next_state, done):\n",
        "        experience = (state, action, reward, next_state, done)\n",
        "        self.tree.add(self.max_p, experience)\n",
        "\n",
        "    def sample(self, n):\n",
        "        batch = []; idxs = []; priorities = []\n",
        "        segment = self.tree.total() / n\n",
        "        self.b = np.min([1., self.b + self.b_increment])\n",
        "\n",
        "        for i in range(n):\n",
        "            a = segment * i; b = segment * (i + 1)\n",
        "            s = random.uniform(a, b)\n",
        "            (idx, p, data) = self.tree.get(s)\n",
        "            if not isinstance(data, int): # データが存在する場合のみ追加\n",
        "                priorities.append(p); batch.append(data); idxs.append(idx)\n",
        "\n",
        "        sampling_probabilities = np.array(priorities) / self.tree.total()\n",
        "        is_weight = np.power(self.tree.n_entries * sampling_probabilities, -self.b)\n",
        "        is_weight /= is_weight.max()\n",
        "\n",
        "        return batch, idxs, is_weight\n",
        "\n",
        "    def update(self, idx, error):\n",
        "        p = (np.abs(error) + self.e) ** self.a\n",
        "        self.max_p = max(self.max_p, p)\n",
        "        self.tree.update(idx, p)\n",
        "\n",
        "    def __len__(self):\n",
        "        return self.tree.n_entries"
      ],
      "metadata": {
        "id": "i_540Uf6jVVU"
      },
      "execution_count": 42,
      "outputs": []
    },
    {
      "cell_type": "code",
      "source": [
        "# セル3: 高機能DQNエージェント (Double DQN + PER)\n",
        "\n",
        "class QNetwork(nn.Module):\n",
        "    \"\"\"盤面を入力とし、各マスのQ値を出力するニューラルネットワーク\"\"\"\n",
        "    def __init__(self, n=8):\n",
        "        super(QNetwork, self).__init__(); self.n = n\n",
        "        self.conv1 = nn.Conv2d(1, 32, kernel_size=3, padding=1)\n",
        "        self.conv2 = nn.Conv2d(32, 64, kernel_size=3, padding=1)\n",
        "        self.fc1 = nn.Linear(64 * n * n, 256)\n",
        "        self.fc2 = nn.Linear(256, n * n)\n",
        "    def forward(self, x):\n",
        "        x = x.view(-1, 1, self.n, self.n); x = F.relu(self.conv1(x)); x = F.relu(self.conv2(x))\n",
        "        x = x.view(x.size(0), -1); x = F.relu(self.fc1(x)); x = self.fc2(x)\n",
        "        return x\n",
        "\n",
        "class AdvancedDQNAgent:\n",
        "    \"\"\"Double DQNとPERを実装したAIエージェント\"\"\"\n",
        "    def __init__(self, n, args, device='cpu'):\n",
        "        self.n = n; self.args = args; self.device = device\n",
        "\n",
        "        self.q_network = QNetwork(n).to(device)\n",
        "        self.target_network = QNetwork(n).to(device)\n",
        "        self.target_network.load_state_dict(self.q_network.state_dict())\n",
        "        self.target_network.eval()\n",
        "\n",
        "        self.optimizer = optim.Adam(self.q_network.parameters(), lr=args['lr'])\n",
        "        self.memory = PERBuffer(args['memory_size']) if args['use_per'] else deque(maxlen=args['memory_size'])\n",
        "\n",
        "        self.epsilon = args['epsilon_start']\n",
        "        self.epsilon_decay = args['epsilon_decay']\n",
        "        self.epsilon_min = args['epsilon_min']\n",
        "        self.gamma = args['gamma']\n",
        "\n",
        "    def choose_action(self, state, valid_moves, player):\n",
        "        if not valid_moves: return None\n",
        "        if random.random() < self.epsilon:\n",
        "            return random.choice(valid_moves)\n",
        "        else:\n",
        "            with torch.no_grad():\n",
        "                state_tensor = torch.FloatTensor(state * player).unsqueeze(0).to(self.device)\n",
        "                q_values = self.q_network(state_tensor).squeeze(0)\n",
        "                valid_q = {m: q_values[m[0] * self.n + m[1]] for m in valid_moves}\n",
        "                return max(valid_q, key=valid_q.get)\n",
        "\n",
        "    def store_transition(self, state, action, reward, next_state, done):\n",
        "        if self.args['use_per']: self.memory.add(state, action, reward, next_state, done)\n",
        "        else: self.memory.append((state, action, reward, next_state, done))\n",
        "\n",
        "    def learn(self, batch_size):\n",
        "        if len(self.memory) < batch_size: return\n",
        "\n",
        "        if self.args['use_per']:\n",
        "            transitions, idxs, is_weights = self.memory.sample(batch_size)\n",
        "            if not transitions: return # サンプルが空の場合は学習しない\n",
        "            is_weights = torch.FloatTensor(is_weights).to(self.device)\n",
        "        else:\n",
        "            transitions = random.sample(self.memory, batch_size)\n",
        "\n",
        "        states, actions, rewards, next_states, dones = zip(*transitions)\n",
        "        states = torch.FloatTensor(np.array(states)).to(self.device)\n",
        "        actions = torch.LongTensor([a[0] * self.n + a[1] for a in actions]).to(self.device)\n",
        "        rewards = torch.FloatTensor(rewards).to(self.device)\n",
        "        next_states = torch.FloatTensor(np.array(next_states)).to(self.device)\n",
        "        dones = torch.FloatTensor(dones).to(self.device)\n",
        "\n",
        "        current_q = self.q_network(states).gather(1, actions.unsqueeze(1)).squeeze(1)\n",
        "\n",
        "        # --- Double DQN ---\n",
        "        next_actions = self.q_network(next_states).max(1)[1].unsqueeze(1)\n",
        "        next_q_values = self.target_network(next_states).gather(1, next_actions).squeeze(1)\n",
        "        target_q = rewards + self.gamma * next_q_values * (1 - dones)\n",
        "\n",
        "        errors = torch.abs(current_q - target_q.detach()).detach().cpu().numpy()\n",
        "\n",
        "        # --- PERの重み更新と損失計算 ---\n",
        "        if self.args['use_per']:\n",
        "            for i in range(len(idxs)): self.memory.update(idxs[i], errors[i])\n",
        "            loss = (is_weights * F.mse_loss(current_q, target_q.detach(), reduction='none')).mean()\n",
        "        else:\n",
        "            loss = F.mse_loss(current_q, target_q.detach())\n",
        "\n",
        "        self.optimizer.zero_grad(); loss.backward(); self.optimizer.step()\n",
        "        self.epsilon = max(self.epsilon_min, self.epsilon * self.epsilon_decay)\n",
        "\n",
        "    def update_target_network(self):\n",
        "        self.target_network.load_state_dict(self.q_network.state_dict())\n"
      ],
      "metadata": {
        "id": "men4MMOrkDLy"
      },
      "execution_count": 43,
      "outputs": []
    },
    {
      "cell_type": "markdown",
      "source": [
        "##学習と評価の実行"
      ],
      "metadata": {
        "id": "J1iEsdvAoi2d"
      }
    },
    {
      "cell_type": "code",
      "source": [
        "# セル4: 学習と評価の実行\n",
        "\n",
        "def evaluate_agent(agent, num_games=50):\n",
        "    \"\"\"指定されたエージェントとランダムプレイヤーを対戦させて勝率を評価する\"\"\"\n",
        "    wins = 0\n",
        "    for _ in range(num_games):\n",
        "        game = OthelloGame()\n",
        "        random_player = RandomPlayer()\n",
        "        agent_player = -1 # エージェントは黒番（先手）\n",
        "\n",
        "        while not game.is_game_over():\n",
        "            player = game.current_player\n",
        "            valid_moves = game.get_valid_moves(player)\n",
        "            if not valid_moves:\n",
        "                game.current_player *= -1\n",
        "                continue\n",
        "\n",
        "            if player == agent_player:\n",
        "                action = agent.choose_action(game.get_board_state(), valid_moves, player)\n",
        "            else:\n",
        "                action = random_player.choose_action(valid_moves)\n",
        "\n",
        "            if action: game.make_move(action, player)\n",
        "            game.current_player *= -1\n",
        "\n",
        "        if game.get_winner() == agent_player: wins += 1\n",
        "    return wins / num_games\n",
        "\n",
        "def run_training(args):\n",
        "    \"\"\"指定された設定でDQNエージェントの学習を実行する\"\"\"\n",
        "    device = torch.device(\"cuda\" if torch.cuda.is_available() else \"cpu\")\n",
        "    agent = AdvancedDQNAgent(n=8, args=args, device=device)\n",
        "    history = {'episode': [], 'win_rate': []}\n",
        "\n",
        "    print(f\"\\n--- 学習開始: {args['model_name']} ---\")\n",
        "    print(f\"デバイス: {device}\")\n",
        "\n",
        "    for e in tqdm(range(args['episodes']), desc=f\"学習中 ({args['model_name']})\"):\n",
        "        game = OthelloGame()\n",
        "        state = game.get_board_state()  # メソッド呼び出しに修正\n",
        "        done = False\n",
        "\n",
        "        while not done:\n",
        "            player = game.current_player\n",
        "            valid_moves = game.get_valid_moves(player)\n",
        "            if not valid_moves:\n",
        "                game.current_player *= -1\n",
        "                if not game.get_valid_moves(game.current_player): done = True\n",
        "                continue\n",
        "\n",
        "            action = agent.choose_action(state, valid_moves, player)\n",
        "            if action:\n",
        "                game.make_move(action, player)\n",
        "                next_state = game.get_board_state()  # メソッド呼び出しに修正\n",
        "                done = game.is_game_over()\n",
        "                reward = game.get_winner() * player if done else 0\n",
        "                agent.store_transition(state * player, action, reward, next_state * player, done)\n",
        "                state = next_state\n",
        "\n",
        "            game.current_player *= -1\n",
        "\n",
        "        if len(agent.memory) > args['batch_size']:\n",
        "            agent.learn(args['batch_size'])\n",
        "\n",
        "        if (e + 1) % args['target_update'] == 0:\n",
        "            agent.update_target_network()\n",
        "\n",
        "        if (e + 1) % args['eval_interval'] == 0:\n",
        "            # 探索率を評価時は一時的に0にする\n",
        "            original_epsilon = agent.epsilon\n",
        "            agent.epsilon = 0\n",
        "            win_rate = evaluate_agent(agent)\n",
        "            agent.epsilon = original_epsilon # 元に戻す\n",
        "\n",
        "            history['episode'].append(e + 1)\n",
        "            history['win_rate'].append(win_rate)\n",
        "            print(f\"エピソード {e+1}: ランダム対戦勝率: {win_rate:.2%}, イプシロン: {agent.epsilon:.4f}\")\n",
        "\n",
        "    return history\n",
        "\n",
        "# --- パラメータ設定 ---\n",
        "# ベースDQNモデル (DQN + 標準リプレイ)\n",
        "args_base = {\n",
        "    'model_name': 'ベースDQN',\n",
        "    'lr': 0.001, 'gamma': 0.99, 'memory_size': 10000, 'batch_size': 64,\n",
        "    'epsilon_start': 1.0, 'epsilon_decay': 0.999, 'epsilon_min': 0.01,\n",
        "    'target_update': 10, 'episodes': 10000, 'eval_interval': 500, 'use_per': False\n",
        "}\n",
        "# 高機能DQNモデル (Double DQN + PER + 再調整)\n",
        "args_advanced = {\n",
        "    'model_name': '高機能DQN',\n",
        "    'lr': 0.0005, 'gamma': 0.99, 'memory_size': 20000, 'batch_size': 64,\n",
        "    'epsilon_start': 1.0, 'epsilon_decay': 0.9999, 'epsilon_min': 0.1,\n",
        "    'target_update': 10, 'episodes': 10000, 'eval_interval': 500, 'use_per': True\n",
        "}\n",
        "\n",
        "# --- 学習実行 ---\n",
        "history_base = run_training(args_base)\n",
        "history_advanced = run_training(args_advanced)"
      ],
      "metadata": {
        "colab": {
          "base_uri": "https://localhost:8080/"
        },
        "id": "SkD3u0B6vaDx",
        "outputId": "a20e9aa7-3561-4b37-9ec4-34bca2a40dd2"
      },
      "execution_count": 44,
      "outputs": [
        {
          "output_type": "stream",
          "name": "stdout",
          "text": [
            "\n",
            "--- 学習開始: ベースDQN ---\n",
            "デバイス: cuda\n"
          ]
        },
        {
          "output_type": "stream",
          "name": "stderr",
          "text": [
            "学習中 (ベースDQN):   5%|▌         | 504/10000 [00:17<24:41,  6.41it/s]"
          ]
        },
        {
          "output_type": "stream",
          "name": "stdout",
          "text": [
            "エピソード 500: ランダム対戦勝率: 52.00%, イプシロン: 0.6070\n"
          ]
        },
        {
          "output_type": "stream",
          "name": "stderr",
          "text": [
            "学習中 (ベースDQN):  10%|█         | 1003/10000 [00:41<25:52,  5.80it/s]"
          ]
        },
        {
          "output_type": "stream",
          "name": "stdout",
          "text": [
            "エピソード 1000: ランダム対戦勝率: 24.00%, イプシロン: 0.3681\n"
          ]
        },
        {
          "output_type": "stream",
          "name": "stderr",
          "text": [
            "学習中 (ベースDQN):  15%|█▌        | 1503/10000 [01:08<30:54,  4.58it/s]"
          ]
        },
        {
          "output_type": "stream",
          "name": "stdout",
          "text": [
            "エピソード 1500: ランダム対戦勝率: 14.00%, イプシロン: 0.2232\n"
          ]
        },
        {
          "output_type": "stream",
          "name": "stderr",
          "text": [
            "学習中 (ベースDQN):  20%|██        | 2003/10000 [01:39<32:29,  4.10it/s]"
          ]
        },
        {
          "output_type": "stream",
          "name": "stdout",
          "text": [
            "エピソード 2000: ランダム対戦勝率: 8.00%, イプシロン: 0.1353\n"
          ]
        },
        {
          "output_type": "stream",
          "name": "stderr",
          "text": [
            "学習中 (ベースDQN):  25%|██▌       | 2503/10000 [02:09<29:50,  4.19it/s]"
          ]
        },
        {
          "output_type": "stream",
          "name": "stdout",
          "text": [
            "エピソード 2500: ランダム対戦勝率: 12.00%, イプシロン: 0.0821\n"
          ]
        },
        {
          "output_type": "stream",
          "name": "stderr",
          "text": [
            "学習中 (ベースDQN):  30%|███       | 3003/10000 [02:41<27:56,  4.17it/s]"
          ]
        },
        {
          "output_type": "stream",
          "name": "stdout",
          "text": [
            "エピソード 3000: ランダム対戦勝率: 12.00%, イプシロン: 0.0498\n"
          ]
        },
        {
          "output_type": "stream",
          "name": "stderr",
          "text": [
            "学習中 (ベースDQN):  35%|███▌      | 3501/10000 [03:13<42:09,  2.57it/s]"
          ]
        },
        {
          "output_type": "stream",
          "name": "stdout",
          "text": [
            "エピソード 3500: ランダム対戦勝率: 22.00%, イプシロン: 0.0302\n"
          ]
        },
        {
          "output_type": "stream",
          "name": "stderr",
          "text": [
            "学習中 (ベースDQN):  40%|████      | 4003/10000 [03:45<23:26,  4.26it/s]"
          ]
        },
        {
          "output_type": "stream",
          "name": "stdout",
          "text": [
            "エピソード 4000: ランダム対戦勝率: 16.00%, イプシロン: 0.0183\n"
          ]
        },
        {
          "output_type": "stream",
          "name": "stderr",
          "text": [
            "学習中 (ベースDQN):  45%|████▌     | 4503/10000 [04:18<21:38,  4.23it/s]"
          ]
        },
        {
          "output_type": "stream",
          "name": "stdout",
          "text": [
            "エピソード 4500: ランダム対戦勝率: 14.00%, イプシロン: 0.0111\n"
          ]
        },
        {
          "output_type": "stream",
          "name": "stderr",
          "text": [
            "学習中 (ベースDQN):  50%|█████     | 5001/10000 [04:50<29:43,  2.80it/s]"
          ]
        },
        {
          "output_type": "stream",
          "name": "stdout",
          "text": [
            "エピソード 5000: ランダム対戦勝率: 14.00%, イプシロン: 0.0100\n"
          ]
        },
        {
          "output_type": "stream",
          "name": "stderr",
          "text": [
            "学習中 (ベースDQN):  55%|█████▌    | 5503/10000 [05:22<17:35,  4.26it/s]"
          ]
        },
        {
          "output_type": "stream",
          "name": "stdout",
          "text": [
            "エピソード 5500: ランダム対戦勝率: 12.00%, イプシロン: 0.0100\n"
          ]
        },
        {
          "output_type": "stream",
          "name": "stderr",
          "text": [
            "学習中 (ベースDQN):  60%|██████    | 6003/10000 [05:55<15:24,  4.32it/s]"
          ]
        },
        {
          "output_type": "stream",
          "name": "stdout",
          "text": [
            "エピソード 6000: ランダム対戦勝率: 20.00%, イプシロン: 0.0100\n"
          ]
        },
        {
          "output_type": "stream",
          "name": "stderr",
          "text": [
            "学習中 (ベースDQN):  65%|██████▌   | 6503/10000 [06:26<13:32,  4.31it/s]"
          ]
        },
        {
          "output_type": "stream",
          "name": "stdout",
          "text": [
            "エピソード 6500: ランダム対戦勝率: 8.00%, イプシロン: 0.0100\n"
          ]
        },
        {
          "output_type": "stream",
          "name": "stderr",
          "text": [
            "学習中 (ベースDQN):  70%|███████   | 7003/10000 [06:58<11:32,  4.33it/s]"
          ]
        },
        {
          "output_type": "stream",
          "name": "stdout",
          "text": [
            "エピソード 7000: ランダム対戦勝率: 6.00%, イプシロン: 0.0100\n"
          ]
        },
        {
          "output_type": "stream",
          "name": "stderr",
          "text": [
            "学習中 (ベースDQN):  75%|███████▌  | 7503/10000 [07:30<12:08,  3.43it/s]"
          ]
        },
        {
          "output_type": "stream",
          "name": "stdout",
          "text": [
            "エピソード 7500: ランダム対戦勝率: 16.00%, イプシロン: 0.0100\n"
          ]
        },
        {
          "output_type": "stream",
          "name": "stderr",
          "text": [
            "学習中 (ベースDQN):  80%|████████  | 8003/10000 [08:02<07:59,  4.17it/s]"
          ]
        },
        {
          "output_type": "stream",
          "name": "stdout",
          "text": [
            "エピソード 8000: ランダム対戦勝率: 10.00%, イプシロン: 0.0100\n"
          ]
        },
        {
          "output_type": "stream",
          "name": "stderr",
          "text": [
            "学習中 (ベースDQN):  85%|████████▌ | 8503/10000 [08:35<06:07,  4.08it/s]"
          ]
        },
        {
          "output_type": "stream",
          "name": "stdout",
          "text": [
            "エピソード 8500: ランダム対戦勝率: 8.00%, イプシロン: 0.0100\n"
          ]
        },
        {
          "output_type": "stream",
          "name": "stderr",
          "text": [
            "学習中 (ベースDQN):  90%|█████████ | 9003/10000 [09:08<05:03,  3.29it/s]"
          ]
        },
        {
          "output_type": "stream",
          "name": "stdout",
          "text": [
            "エピソード 9000: ランダム対戦勝率: 10.00%, イプシロン: 0.0100\n"
          ]
        },
        {
          "output_type": "stream",
          "name": "stderr",
          "text": [
            "学習中 (ベースDQN):  95%|█████████▌| 9503/10000 [09:39<01:55,  4.29it/s]"
          ]
        },
        {
          "output_type": "stream",
          "name": "stdout",
          "text": [
            "エピソード 9500: ランダム対戦勝率: 14.00%, イプシロン: 0.0100\n"
          ]
        },
        {
          "output_type": "stream",
          "name": "stderr",
          "text": [
            "学習中 (ベースDQN): 100%|██████████| 10000/10000 [10:12<00:00, 16.34it/s]\n"
          ]
        },
        {
          "output_type": "stream",
          "name": "stdout",
          "text": [
            "エピソード 10000: ランダム対戦勝率: 10.00%, イプシロン: 0.0100\n",
            "\n",
            "--- 学習開始: 高機能DQN ---\n",
            "デバイス: cuda\n"
          ]
        },
        {
          "output_type": "stream",
          "name": "stderr",
          "text": [
            "学習中 (高機能DQN):   5%|▌         | 505/10000 [00:14<14:52, 10.64it/s]"
          ]
        },
        {
          "output_type": "stream",
          "name": "stdout",
          "text": [
            "エピソード 500: ランダム対戦勝率: 22.00%, イプシロン: 0.9513\n"
          ]
        },
        {
          "output_type": "stream",
          "name": "stderr",
          "text": [
            "学習中 (高機能DQN):  10%|█         | 1005/10000 [00:29<16:56,  8.85it/s]"
          ]
        },
        {
          "output_type": "stream",
          "name": "stdout",
          "text": [
            "エピソード 1000: ランダム対戦勝率: 72.00%, イプシロン: 0.9049\n"
          ]
        },
        {
          "output_type": "stream",
          "name": "stderr",
          "text": [
            "学習中 (高機能DQN):  15%|█▌        | 1505/10000 [00:45<23:03,  6.14it/s]"
          ]
        },
        {
          "output_type": "stream",
          "name": "stdout",
          "text": [
            "エピソード 1500: ランダム対戦勝率: 78.00%, イプシロン: 0.8608\n"
          ]
        },
        {
          "output_type": "stream",
          "name": "stderr",
          "text": [
            "学習中 (高機能DQN):  20%|██        | 2005/10000 [01:02<16:07,  8.26it/s]"
          ]
        },
        {
          "output_type": "stream",
          "name": "stdout",
          "text": [
            "エピソード 2000: ランダム対戦勝率: 72.00%, イプシロン: 0.8188\n"
          ]
        },
        {
          "output_type": "stream",
          "name": "stderr",
          "text": [
            "学習中 (高機能DQN):  25%|██▌       | 2503/10000 [01:20<22:33,  5.54it/s]"
          ]
        },
        {
          "output_type": "stream",
          "name": "stdout",
          "text": [
            "エピソード 2500: ランダム対戦勝率: 66.00%, イプシロン: 0.7789\n"
          ]
        },
        {
          "output_type": "stream",
          "name": "stderr",
          "text": [
            "学習中 (高機能DQN):  30%|███       | 3004/10000 [01:39<14:31,  8.03it/s]"
          ]
        },
        {
          "output_type": "stream",
          "name": "stdout",
          "text": [
            "エピソード 3000: ランダム対戦勝率: 76.00%, イプシロン: 0.7409\n"
          ]
        },
        {
          "output_type": "stream",
          "name": "stderr",
          "text": [
            "学習中 (高機能DQN):  35%|███▌      | 3503/10000 [01:59<20:28,  5.29it/s]"
          ]
        },
        {
          "output_type": "stream",
          "name": "stdout",
          "text": [
            "エピソード 3500: ランダム対戦勝率: 72.00%, イプシロン: 0.7047\n"
          ]
        },
        {
          "output_type": "stream",
          "name": "stderr",
          "text": [
            "学習中 (高機能DQN):  40%|████      | 4003/10000 [02:18<15:50,  6.31it/s]"
          ]
        },
        {
          "output_type": "stream",
          "name": "stdout",
          "text": [
            "エピソード 4000: ランダム対戦勝率: 74.00%, イプシロン: 0.6704\n"
          ]
        },
        {
          "output_type": "stream",
          "name": "stderr",
          "text": [
            "学習中 (高機能DQN):  45%|████▌     | 4504/10000 [02:40<13:57,  6.56it/s]"
          ]
        },
        {
          "output_type": "stream",
          "name": "stdout",
          "text": [
            "エピソード 4500: ランダム対戦勝率: 74.00%, イプシロン: 0.6377\n"
          ]
        },
        {
          "output_type": "stream",
          "name": "stderr",
          "text": [
            "学習中 (高機能DQN):  50%|█████     | 5003/10000 [03:01<13:31,  6.15it/s]"
          ]
        },
        {
          "output_type": "stream",
          "name": "stdout",
          "text": [
            "エピソード 5000: ランダム対戦勝率: 62.00%, イプシロン: 0.6066\n"
          ]
        },
        {
          "output_type": "stream",
          "name": "stderr",
          "text": [
            "学習中 (高機能DQN):  55%|█████▌    | 5504/10000 [03:24<15:58,  4.69it/s]"
          ]
        },
        {
          "output_type": "stream",
          "name": "stdout",
          "text": [
            "エピソード 5500: ランダム対戦勝率: 56.00%, イプシロン: 0.5770\n"
          ]
        },
        {
          "output_type": "stream",
          "name": "stderr",
          "text": [
            "学習中 (高機能DQN):  60%|██████    | 6002/10000 [03:46<13:49,  4.82it/s]"
          ]
        },
        {
          "output_type": "stream",
          "name": "stdout",
          "text": [
            "エピソード 6000: ランダム対戦勝率: 56.00%, イプシロン: 0.5489\n"
          ]
        },
        {
          "output_type": "stream",
          "name": "stderr",
          "text": [
            "学習中 (高機能DQN):  65%|██████▌   | 6505/10000 [04:10<09:05,  6.41it/s]"
          ]
        },
        {
          "output_type": "stream",
          "name": "stdout",
          "text": [
            "エピソード 6500: ランダム対戦勝率: 60.00%, イプシロン: 0.5221\n"
          ]
        },
        {
          "output_type": "stream",
          "name": "stderr",
          "text": [
            "学習中 (高機能DQN):  70%|███████   | 7004/10000 [04:33<08:03,  6.19it/s]"
          ]
        },
        {
          "output_type": "stream",
          "name": "stdout",
          "text": [
            "エピソード 7000: ランダム対戦勝率: 42.00%, イプシロン: 0.4966\n"
          ]
        },
        {
          "output_type": "stream",
          "name": "stderr",
          "text": [
            "学習中 (高機能DQN):  75%|███████▌  | 7504/10000 [04:58<06:51,  6.07it/s]"
          ]
        },
        {
          "output_type": "stream",
          "name": "stdout",
          "text": [
            "エピソード 7500: ランダム対戦勝率: 80.00%, イプシロン: 0.4724\n"
          ]
        },
        {
          "output_type": "stream",
          "name": "stderr",
          "text": [
            "学習中 (高機能DQN):  80%|████████  | 8004/10000 [05:22<05:20,  6.22it/s]"
          ]
        },
        {
          "output_type": "stream",
          "name": "stdout",
          "text": [
            "エピソード 8000: ランダム対戦勝率: 24.00%, イプシロン: 0.4494\n"
          ]
        },
        {
          "output_type": "stream",
          "name": "stderr",
          "text": [
            "学習中 (高機能DQN):  85%|████████▌ | 8503/10000 [05:48<04:54,  5.08it/s]"
          ]
        },
        {
          "output_type": "stream",
          "name": "stdout",
          "text": [
            "エピソード 8500: ランダム対戦勝率: 50.00%, イプシロン: 0.4274\n"
          ]
        },
        {
          "output_type": "stream",
          "name": "stderr",
          "text": [
            "学習中 (高機能DQN):  90%|█████████ | 9002/10000 [06:14<04:48,  3.46it/s]"
          ]
        },
        {
          "output_type": "stream",
          "name": "stdout",
          "text": [
            "エピソード 9000: ランダム対戦勝率: 28.00%, イプシロン: 0.4066\n"
          ]
        },
        {
          "output_type": "stream",
          "name": "stderr",
          "text": [
            "学習中 (高機能DQN):  95%|█████████▌| 9503/10000 [06:40<01:59,  4.15it/s]"
          ]
        },
        {
          "output_type": "stream",
          "name": "stdout",
          "text": [
            "エピソード 9500: ランダム対戦勝率: 38.00%, イプシロン: 0.3868\n"
          ]
        },
        {
          "output_type": "stream",
          "name": "stderr",
          "text": [
            "学習中 (高機能DQN): 100%|██████████| 10000/10000 [07:06<00:00, 23.43it/s]"
          ]
        },
        {
          "output_type": "stream",
          "name": "stdout",
          "text": [
            "エピソード 10000: ランダム対戦勝率: 62.00%, イプシロン: 0.3679\n"
          ]
        },
        {
          "output_type": "stream",
          "name": "stderr",
          "text": [
            "\n"
          ]
        }
      ]
    },
    {
      "cell_type": "code",
      "source": [
        "# セル5: モデルの保存と読み込み\n",
        "def save_model(agent, filepath):\n",
        "    \"\"\"学習済みモデルを保存\"\"\"\n",
        "    torch.save({\n",
        "        'model_state_dict': agent.q_network.state_dict(),\n",
        "        'target_state_dict': agent.target_network.state_dict(),\n",
        "        'optimizer_state_dict': agent.optimizer.state_dict(),\n",
        "        'epsilon': agent.epsilon,\n",
        "        'args': agent.args\n",
        "    }, filepath)\n",
        "    print(f\"モデルを {filepath} に保存しました\")\n",
        "\n",
        "def load_model(filepath, device='cpu'):\n",
        "    \"\"\"保存されたモデルを読み込み\"\"\"\n",
        "    checkpoint = torch.load(filepath, map_location=device)\n",
        "\n",
        "    # エージェントを再作成\n",
        "    agent = AdvancedDQNAgent(n=8, args=checkpoint['args'], device=device)\n",
        "\n",
        "    # 状態を復元\n",
        "    agent.q_network.load_state_dict(checkpoint['model_state_dict'])\n",
        "    agent.target_network.load_state_dict(checkpoint['target_state_dict'])\n",
        "    agent.optimizer.load_state_dict(checkpoint['optimizer_state_dict'])\n",
        "    agent.epsilon = checkpoint['epsilon']\n",
        "\n",
        "    print(f\"モデルを {filepath} から読み込みました\")\n",
        "    return agent\n",
        "\n",
        "# 高機能DQNモデルを保存\n",
        "device = torch.device(\"cuda\" if torch.cuda.is_available() else \"cpu\")\n",
        "advanced_agent = AdvancedDQNAgent(n=8, args=args_advanced, device=device)\n",
        "\n",
        "# 学習済みの重みを持つエージェントを作成（実際の学習後の状態を再現）\n",
        "\n",
        "def run_training_with_agent_return(args):\n",
        "    \"\"\"指定された設定でDQNエージェントの学習を実行し、エージェントも返す\"\"\"\n",
        "    device = torch.device(\"cuda\" if torch.cuda.is_available() else \"cpu\")\n",
        "    agent = AdvancedDQNAgent(n=8, args=args, device=device)\n",
        "    history = {'episode': [], 'win_rate': []}\n",
        "\n",
        "    print(f\"\\n--- 学習開始: {args['model_name']} ---\")\n",
        "    print(f\"デバイス: {device}\")\n",
        "\n",
        "    for e in tqdm(range(args['episodes']), desc=f\"学習中 ({args['model_name']})\"):\n",
        "        game = OthelloGame()\n",
        "        state = game.get_board_state()\n",
        "        done = False\n",
        "\n",
        "        while not done:\n",
        "            player = game.current_player\n",
        "            valid_moves = game.get_valid_moves(player)\n",
        "            if not valid_moves:\n",
        "                game.current_player *= -1\n",
        "                if not game.get_valid_moves(game.current_player): done = True\n",
        "                continue\n",
        "\n",
        "            action = agent.choose_action(state, valid_moves, player)\n",
        "            if action:\n",
        "                game.make_move(action, player)\n",
        "                next_state = game.get_board_state()\n",
        "                done = game.is_game_over()\n",
        "                reward = game.get_winner() * player if done else 0\n",
        "                agent.store_transition(state * player, action, reward, next_state * player, done)\n",
        "                state = next_state\n",
        "\n",
        "            game.current_player *= -1\n",
        "\n",
        "        if len(agent.memory) > args['batch_size']:\n",
        "            agent.learn(args['batch_size'])\n",
        "\n",
        "        if (e + 1) % args['target_update'] == 0:\n",
        "            agent.update_target_network()\n",
        "\n",
        "        if (e + 1) % args['eval_interval'] == 0:\n",
        "            original_epsilon = agent.epsilon\n",
        "            agent.epsilon = 0\n",
        "            win_rate = evaluate_agent(agent)\n",
        "            agent.epsilon = original_epsilon\n",
        "\n",
        "            history['episode'].append(e + 1)\n",
        "            history['win_rate'].append(win_rate)\n",
        "            print(f\"エピソード {e+1}: ランダム対戦勝率: {win_rate:.2%}, イプシロン: {agent.epsilon:.4f}\")\n",
        "\n",
        "    return history, agent\n",
        "\n",
        "# 高機能DQNの学習を実行してエージェントを取得\n",
        "print(\"高機能DQNの学習を開始します...\")\n",
        "history_advanced_new, trained_agent = run_training_with_agent_return(args_advanced)\n",
        "\n",
        "# 学習済みモデルを保存\n",
        "save_model(trained_agent, 'advanced_dqn.pth')\n",
        "\n",
        "# モデルの読み込みテスト\n",
        "print(\"\\n保存したモデルを読み込んでテストします...\")\n",
        "loaded_agent = load_model('advanced_dqn.pth', device=device)\n",
        "\n",
        "# 読み込んだモデルの性能を評価\n",
        "loaded_agent.epsilon = 0  # 評価時は探索しない\n",
        "test_win_rate = evaluate_agent(loaded_agent, num_games=100)\n",
        "print(f\"読み込んだモデルのテスト勝率: {test_win_rate:.2%}\")"
      ],
      "metadata": {
        "colab": {
          "base_uri": "https://localhost:8080/"
        },
        "id": "Morq2U-OvaNs",
        "outputId": "02985c22-07d6-4375-d770-456373c434f4"
      },
      "execution_count": 45,
      "outputs": [
        {
          "output_type": "stream",
          "name": "stdout",
          "text": [
            "高機能DQNの学習を開始します...\n",
            "\n",
            "--- 学習開始: 高機能DQN ---\n",
            "デバイス: cuda\n"
          ]
        },
        {
          "output_type": "stream",
          "name": "stderr",
          "text": [
            "学習中 (高機能DQN):   5%|▌         | 506/10000 [00:14<15:00, 10.54it/s]"
          ]
        },
        {
          "output_type": "stream",
          "name": "stdout",
          "text": [
            "エピソード 500: ランダム対戦勝率: 40.00%, イプシロン: 0.9513\n"
          ]
        },
        {
          "output_type": "stream",
          "name": "stderr",
          "text": [
            "学習中 (高機能DQN):  10%|█         | 1007/10000 [00:28<15:46,  9.50it/s]"
          ]
        },
        {
          "output_type": "stream",
          "name": "stdout",
          "text": [
            "エピソード 1000: ランダム対戦勝率: 40.00%, イプシロン: 0.9049\n"
          ]
        },
        {
          "output_type": "stream",
          "name": "stderr",
          "text": [
            "学習中 (高機能DQN):  15%|█▌        | 1505/10000 [00:45<22:28,  6.30it/s]"
          ]
        },
        {
          "output_type": "stream",
          "name": "stdout",
          "text": [
            "エピソード 1500: ランダム対戦勝率: 46.00%, イプシロン: 0.8608\n"
          ]
        },
        {
          "output_type": "stream",
          "name": "stderr",
          "text": [
            "学習中 (高機能DQN):  20%|██        | 2005/10000 [01:02<15:59,  8.33it/s]"
          ]
        },
        {
          "output_type": "stream",
          "name": "stdout",
          "text": [
            "エピソード 2000: ランダム対戦勝率: 44.00%, イプシロン: 0.8188\n"
          ]
        },
        {
          "output_type": "stream",
          "name": "stderr",
          "text": [
            "学習中 (高機能DQN):  25%|██▌       | 2503/10000 [01:19<20:55,  5.97it/s]"
          ]
        },
        {
          "output_type": "stream",
          "name": "stdout",
          "text": [
            "エピソード 2500: ランダム対戦勝率: 48.00%, イプシロン: 0.7789\n"
          ]
        },
        {
          "output_type": "stream",
          "name": "stderr",
          "text": [
            "学習中 (高機能DQN):  30%|███       | 3003/10000 [01:38<18:46,  6.21it/s]"
          ]
        },
        {
          "output_type": "stream",
          "name": "stdout",
          "text": [
            "エピソード 3000: ランダム対戦勝率: 58.00%, イプシロン: 0.7409\n"
          ]
        },
        {
          "output_type": "stream",
          "name": "stderr",
          "text": [
            "学習中 (高機能DQN):  35%|███▌      | 3503/10000 [01:58<19:55,  5.44it/s]"
          ]
        },
        {
          "output_type": "stream",
          "name": "stdout",
          "text": [
            "エピソード 3500: ランダム対戦勝率: 70.00%, イプシロン: 0.7047\n"
          ]
        },
        {
          "output_type": "stream",
          "name": "stderr",
          "text": [
            "学習中 (高機能DQN):  40%|████      | 4005/10000 [02:17<15:34,  6.41it/s]"
          ]
        },
        {
          "output_type": "stream",
          "name": "stdout",
          "text": [
            "エピソード 4000: ランダム対戦勝率: 54.00%, イプシロン: 0.6704\n"
          ]
        },
        {
          "output_type": "stream",
          "name": "stderr",
          "text": [
            "学習中 (高機能DQN):  45%|████▌     | 4505/10000 [02:38<14:24,  6.35it/s]"
          ]
        },
        {
          "output_type": "stream",
          "name": "stdout",
          "text": [
            "エピソード 4500: ランダム対戦勝率: 52.00%, イプシロン: 0.6377\n"
          ]
        },
        {
          "output_type": "stream",
          "name": "stderr",
          "text": [
            "学習中 (高機能DQN):  50%|█████     | 5004/10000 [03:00<18:18,  4.55it/s]"
          ]
        },
        {
          "output_type": "stream",
          "name": "stdout",
          "text": [
            "エピソード 5000: ランダム対戦勝率: 52.00%, イプシロン: 0.6066\n"
          ]
        },
        {
          "output_type": "stream",
          "name": "stderr",
          "text": [
            "学習中 (高機能DQN):  55%|█████▌    | 5502/10000 [03:22<19:31,  3.84it/s]"
          ]
        },
        {
          "output_type": "stream",
          "name": "stdout",
          "text": [
            "エピソード 5500: ランダム対戦勝率: 42.00%, イプシロン: 0.5770\n"
          ]
        },
        {
          "output_type": "stream",
          "name": "stderr",
          "text": [
            "学習中 (高機能DQN):  60%|██████    | 6003/10000 [03:44<10:47,  6.18it/s]"
          ]
        },
        {
          "output_type": "stream",
          "name": "stdout",
          "text": [
            "エピソード 6000: ランダム対戦勝率: 32.00%, イプシロン: 0.5489\n"
          ]
        },
        {
          "output_type": "stream",
          "name": "stderr",
          "text": [
            "学習中 (高機能DQN):  65%|██████▌   | 6505/10000 [04:08<09:21,  6.23it/s]"
          ]
        },
        {
          "output_type": "stream",
          "name": "stdout",
          "text": [
            "エピソード 6500: ランダム対戦勝率: 34.00%, イプシロン: 0.5221\n"
          ]
        },
        {
          "output_type": "stream",
          "name": "stderr",
          "text": [
            "学習中 (高機能DQN):  70%|███████   | 7003/10000 [04:32<08:12,  6.09it/s]"
          ]
        },
        {
          "output_type": "stream",
          "name": "stdout",
          "text": [
            "エピソード 7000: ランダム対戦勝率: 22.00%, イプシロン: 0.4966\n"
          ]
        },
        {
          "output_type": "stream",
          "name": "stderr",
          "text": [
            "学習中 (高機能DQN):  75%|███████▌  | 7503/10000 [04:56<07:29,  5.55it/s]"
          ]
        },
        {
          "output_type": "stream",
          "name": "stdout",
          "text": [
            "エピソード 7500: ランダム対戦勝率: 54.00%, イプシロン: 0.4724\n"
          ]
        },
        {
          "output_type": "stream",
          "name": "stderr",
          "text": [
            "学習中 (高機能DQN):  80%|████████  | 8004/10000 [05:21<05:28,  6.08it/s]"
          ]
        },
        {
          "output_type": "stream",
          "name": "stdout",
          "text": [
            "エピソード 8000: ランダム対戦勝率: 34.00%, イプシロン: 0.4494\n"
          ]
        },
        {
          "output_type": "stream",
          "name": "stderr",
          "text": [
            "学習中 (高機能DQN):  85%|████████▌ | 8503/10000 [05:47<04:08,  6.03it/s]"
          ]
        },
        {
          "output_type": "stream",
          "name": "stdout",
          "text": [
            "エピソード 8500: ランダム対戦勝率: 68.00%, イプシロン: 0.4274\n"
          ]
        },
        {
          "output_type": "stream",
          "name": "stderr",
          "text": [
            "学習中 (高機能DQN):  90%|█████████ | 9002/10000 [06:14<04:55,  3.38it/s]"
          ]
        },
        {
          "output_type": "stream",
          "name": "stdout",
          "text": [
            "エピソード 9000: ランダム対戦勝率: 40.00%, イプシロン: 0.4066\n"
          ]
        },
        {
          "output_type": "stream",
          "name": "stderr",
          "text": [
            "学習中 (高機能DQN):  95%|█████████▌| 9503/10000 [06:40<01:46,  4.65it/s]"
          ]
        },
        {
          "output_type": "stream",
          "name": "stdout",
          "text": [
            "エピソード 9500: ランダム対戦勝率: 46.00%, イプシロン: 0.3868\n"
          ]
        },
        {
          "output_type": "stream",
          "name": "stderr",
          "text": [
            "学習中 (高機能DQN): 100%|██████████| 10000/10000 [07:07<00:00, 23.42it/s]"
          ]
        },
        {
          "output_type": "stream",
          "name": "stdout",
          "text": [
            "エピソード 10000: ランダム対戦勝率: 40.00%, イプシロン: 0.3679\n",
            "モデルを advanced_dqn.pth に保存しました\n",
            "\n",
            "保存したモデルを読み込んでテストします...\n",
            "モデルを advanced_dqn.pth から読み込みました\n"
          ]
        },
        {
          "output_type": "stream",
          "name": "stderr",
          "text": [
            "\n"
          ]
        },
        {
          "output_type": "stream",
          "name": "stdout",
          "text": [
            "読み込んだモデルのテスト勝率: 41.00%\n"
          ]
        }
      ]
    },
    {
      "cell_type": "markdown",
      "source": [
        "## 性能比較の可視化"
      ],
      "metadata": {
        "id": "Wh5veSU57nd6"
      }
    },
    {
      "cell_type": "code",
      "source": [
        "# セル6: 性能比較の可視化\n",
        "plt.figure(figsize=(12, 7))\n",
        "plt.plot(history_base['episode'], history_base['win_rate'], marker='o', linestyle='--', label='ベースDQN')\n",
        "plt.plot(history_advanced['episode'], history_advanced['win_rate'], marker='s', linestyle='-', label='高機能DQN (Double + PER)')\n",
        "\n",
        "plt.title('DQNモデルの性能比較', fontsize=16)\n",
        "plt.xlabel('学習エピソード数', fontsize=12)\n",
        "plt.ylabel('ランダムプレイヤーに対する勝率', fontsize=12)\n",
        "plt.grid(True)\n",
        "plt.legend(fontsize=12)\n",
        "plt.gca().yaxis.set_major_formatter(plt.FuncFormatter('{:.0%}'.format)) # Y軸をパーセント表示に\n",
        "plt.ylim(0, 1.05)\n",
        "plt.show()"
      ],
      "metadata": {
        "colab": {
          "base_uri": "https://localhost:8080/",
          "height": 521
        },
        "id": "gVyiiYh5uQ6M",
        "outputId": "192ea822-6ba2-4f38-e61e-271d45780308"
      },
      "execution_count": 46,
      "outputs": [
        {
          "output_type": "display_data",
          "data": {
            "text/plain": [
              "<Figure size 1200x700 with 1 Axes>"
            ],
            "image/png": "[encoded data removed]"
          },
          "metadata": {}
        }
      ]
    }
  ]
}